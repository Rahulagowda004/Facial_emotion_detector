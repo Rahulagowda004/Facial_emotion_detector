{
 "cells": [
  {
   "cell_type": "code",
   "execution_count": 1,
   "metadata": {},
   "outputs": [],
   "source": [
    "import os"
   ]
  },
  {
   "cell_type": "code",
   "execution_count": 2,
   "metadata": {},
   "outputs": [
    {
     "data": {
      "text/plain": [
       "'c:\\\\Users\\\\rahul\\\\Downloads\\\\Facial_review_system\\\\research'"
      ]
     },
     "execution_count": 2,
     "metadata": {},
     "output_type": "execute_result"
    }
   ],
   "source": [
    "%pwd"
   ]
  },
  {
   "cell_type": "code",
   "execution_count": 3,
   "metadata": {},
   "outputs": [],
   "source": [
    "os.chdir('../')"
   ]
  },
  {
   "cell_type": "code",
   "execution_count": 4,
   "metadata": {},
   "outputs": [
    {
     "data": {
      "text/plain": [
       "'c:\\\\Users\\\\rahul\\\\Downloads\\\\Facial_review_system'"
      ]
     },
     "execution_count": 4,
     "metadata": {},
     "output_type": "execute_result"
    }
   ],
   "source": [
    "%pwd"
   ]
  },
  {
   "cell_type": "code",
   "execution_count": 5,
   "metadata": {},
   "outputs": [],
   "source": [
    "from dataclasses import dataclass\n",
    "from pathlib import Path\n",
    "\n",
    "\n",
    "@dataclass(frozen=True)\n",
    "class PrepareBaseModelConfig:\n",
    "    root_dir: Path\n",
    "    source_URL: str\n",
    "    local_data_file: Path\n",
    "    base_model_path: Path\n",
    "    updated_base_model_path: Path\n",
    "    params_image_size: list\n",
    "    params_classes: int\n",
    "    \n",
    "@dataclass(frozen=True)\n",
    "class PrepareWeightsConfig:\n",
    "    root_dir: Path\n",
    "    source_URL: str\n",
    "    local_data_file: Path"
   ]
  },
  {
   "cell_type": "code",
   "execution_count": 6,
   "metadata": {},
   "outputs": [],
   "source": [
    "from Facial_Review_System.constants import *\n",
    "from Facial_Review_System.utils.common import read_yaml, create_directories"
   ]
  },
  {
   "cell_type": "code",
   "execution_count": 7,
   "metadata": {},
   "outputs": [],
   "source": [
    "#this class for base model configuration\n",
    "\n",
    "class ConfigurationManager:\n",
    "    def __init__(\n",
    "        self,\n",
    "        config_filepath = CONFIG_FILE_PATH,\n",
    "        params_filepath = PARAMS_FILE_PATH):\n",
    "\n",
    "        self.config = read_yaml(config_filepath)\n",
    "        self.params = read_yaml(params_filepath)\n",
    "\n",
    "        create_directories([self.config.artifacts_root])\n",
    "\n",
    "    def get_model_config(self) -> PrepareBaseModelConfig:\n",
    "        config = self.config.prepare_base_model\n",
    "\n",
    "        create_directories([config.root_dir])\n",
    "\n",
    "        prepare_base_model_config = PrepareBaseModelConfig(\n",
    "            root_dir=Path(config.root_dir),\n",
    "            source_URL=config.source_URL,\n",
    "            local_data_file=config.local_data_file,\n",
    "            base_model_path=Path(config.base_model_path),\n",
    "            updated_base_model_path=Path(config.updated_base_model_path),\n",
    "            params_image_size=self.params.IMAGE_SIZE,\n",
    "            params_classes=self.params.CLASSES\n",
    "        )\n",
    "\n",
    "        return prepare_base_model_config\n",
    "\n",
    "    def __init__(\n",
    "        self,\n",
    "        config_filepath = CONFIG_FILE_PATH,\n",
    "        params_filepath = PARAMS_FILE_PATH):\n",
    "\n",
    "        self.config = read_yaml(config_filepath)\n",
    "        self.params = read_yaml(params_filepath)\n",
    "\n",
    "        create_directories([self.config.artifacts_root])\n",
    "\n",
    "    def get_prepare_weights_config(self) -> PrepareWeightsConfig:\n",
    "        config = self.config.prepare_weights\n",
    "\n",
    "        create_directories([config.root_dir])\n",
    "        \n",
    "        prepare_weights_config = PrepareWeightsConfig(\n",
    "            root_dir=config.root_dir,\n",
    "            source_URL=config.source_URL,\n",
    "            local_data_file=config.local_data_file\n",
    "        )\n",
    "\n",
    "\n",
    "        return prepare_weights_config"
   ]
  },
  {
   "cell_type": "code",
   "execution_count": 8,
   "metadata": {},
   "outputs": [],
   "source": [
    "import os\n",
    "import zipfile\n",
    "import gdown\n",
    "from Facial_Review_System import logger\n",
    "from Facial_Review_System.utils.common import get_size"
   ]
  },
  {
   "cell_type": "code",
   "execution_count": 9,
   "metadata": {},
   "outputs": [],
   "source": [
    "# #this class is for model download\n",
    "# class ModelDownload:\n",
    "#     def __init__(self, config: PrepareBaseModelConfig):\n",
    "#         self.config = config\n",
    "\n",
    "    \n",
    "#     def download_file(self)-> str:\n",
    "#         '''\n",
    "#         Fetch data from the url\n",
    "#         '''\n",
    "\n",
    "#         try: \n",
    "#             dataset_url = self.config.source_URL\n",
    "#             os.makedirs(\"artifacts/prepare_base_model\", exist_ok=True)\n",
    "#             logger.info(f\"Downloading data from {dataset_url} into file {zip_download_dir}\")\n",
    "\n",
    "#             file_id = dataset_url.split(\"/\")[-2]\n",
    "#             prefix = 'https://drive.google.com/uc?/export=download&id='\n",
    "#             gdown.download(prefix+file_id,zip_download_dir)\n",
    "\n",
    "#             logger.info(f\"Downloaded data from {dataset_url} into file {zip_download_dir}\")\n",
    "\n",
    "#         except Exception as e:\n",
    "#             raise e\n",
    "\n",
    "            \n",
    "# #this class if for weights download\n",
    "\n",
    "# class WeightsDownload:\n",
    "#     def __init__(self, config: PrepareWeightsConfig):\n",
    "#         self.config = config\n",
    "\n",
    "    \n",
    "#     def download_file(self)-> str:\n",
    "#         '''\n",
    "#         Fetch data from the url\n",
    "#         '''\n",
    "\n",
    "#         try: \n",
    "#             dataset_url = self.config.source_URL\n",
    "#             os.makedirs(\"artifacts/prepare_base_model\", exist_ok=True)\n",
    "#             logger.info(f\"Downloading data from {dataset_url} into file {zip_download_dir}\")\n",
    "\n",
    "#             file_id = dataset_url.split(\"/\")[-2]\n",
    "#             prefix = 'https://drive.google.com/uc?/export=download&id='\n",
    "#             gdown.download(prefix+file_id,zip_download_dir)\n",
    "\n",
    "#             logger.info(f\"Downloaded data from {dataset_url} into file {zip_download_dir}\")\n",
    "\n",
    "#         except Exception as e:\n",
    "#             raise e\n"
   ]
  },
  {
   "cell_type": "code",
   "execution_count": 10,
   "metadata": {},
   "outputs": [],
   "source": [
    "#by chatgpt\n",
    "class ModelDownload:\n",
    "    def __init__(self, config: PrepareBaseModelConfig):\n",
    "        self.config = config\n",
    "\n",
    "    def download_file(self) -> str:\n",
    "        '''\n",
    "        Fetch data from the url\n",
    "        '''\n",
    "\n",
    "        try: \n",
    "            dataset_url = self.config.source_URL\n",
    "            os.makedirs(self.config.root_dir, exist_ok=True)  # Updated directory path\n",
    "            logger.info(f\"Downloading data from {dataset_url} into file {self.config.local_data_file}\")\n",
    "\n",
    "            file_id = dataset_url.split(\"/\")[-2]\n",
    "            prefix = 'https://drive.google.com/uc?/export=download&id='\n",
    "            gdown.download(prefix + file_id, self.config.local_data_file)  # Save to local_data_file\n",
    "\n",
    "            logger.info(f\"Downloaded data from {dataset_url} into file {self.config.local_data_file}\")\n",
    "\n",
    "        except Exception as e:\n",
    "            raise e\n",
    "\n",
    "\n",
    "            \n",
    "#this class if for weights download\n",
    "\n",
    "class WeightsDownload:\n",
    "    def __init__(self, config: PrepareWeightsConfig):\n",
    "        self.config = config\n",
    "\n",
    "    def download_file(self) -> str:\n",
    "        '''\n",
    "        Fetch data from the url\n",
    "        '''\n",
    "\n",
    "        try: \n",
    "            dataset_url = self.config.source_URL\n",
    "            os.makedirs(self.config.root_dir, exist_ok=True)  # Updated directory path\n",
    "            logger.info(f\"Downloading data from {dataset_url} into file {self.config.local_data_file}\")\n",
    "\n",
    "            file_id = dataset_url.split(\"/\")[-2]\n",
    "            prefix = 'https://drive.google.com/uc?/export=download&id='\n",
    "            gdown.download(prefix + file_id, self.config.local_data_file)  # Save to local_data_file\n",
    "\n",
    "            logger.info(f\"Downloaded data from {dataset_url} into file {self.config.local_data_file}\")\n",
    "\n",
    "        except Exception as e:\n",
    "            raise e\n"
   ]
  },
  {
   "cell_type": "code",
   "execution_count": 11,
   "metadata": {},
   "outputs": [
    {
     "name": "stdout",
     "output_type": "stream",
     "text": [
      "[2024-04-26 10:49:07,314: INFO: common: yaml file: config\\config.yaml loaded successfully]\n",
      "[2024-04-26 10:49:07,316: INFO: common: yaml file: params.yaml loaded successfully]\n",
      "[2024-04-26 10:49:07,317: INFO: common: created directory at: artifacts]\n",
      "[2024-04-26 10:49:07,318: INFO: common: created directory at: artifacts/prepare_base_model]\n",
      "[2024-04-26 10:49:07,320: INFO: 411889403: Downloading data from https://drive.google.com/file/d/10oVyfXZwo0o_QsYPfYyFOHF6145IDDvn/view?usp=drive_link into file artifacts/prepare_base_model/base_model.h5]\n"
     ]
    },
    {
     "name": "stderr",
     "output_type": "stream",
     "text": [
      "Downloading...\n",
      "From (original): https://drive.google.com/uc?/export=download&id=10oVyfXZwo0o_QsYPfYyFOHF6145IDDvn\n",
      "From (redirected): https://drive.google.com/uc?%2Fexport=download&id=10oVyfXZwo0o_QsYPfYyFOHF6145IDDvn&confirm=t&uuid=a918251b-eecf-4cb2-adea-a380af77afb3\n",
      "To: c:\\Users\\rahul\\Downloads\\Facial_review_system\\artifacts\\prepare_base_model\\base_model.h5\n",
      "100%|██████████| 580M/580M [01:46<00:00, 5.43MB/s] "
     ]
    },
    {
     "name": "stdout",
     "output_type": "stream",
     "text": [
      "[2024-04-26 10:50:56,053: INFO: 411889403: Downloaded data from https://drive.google.com/file/d/10oVyfXZwo0o_QsYPfYyFOHF6145IDDvn/view?usp=drive_link into file artifacts/prepare_base_model/base_model.h5]\n",
      "[2024-04-26 10:50:56,054: INFO: common: created directory at: artifacts/prepare_weights]\n",
      "[2024-04-26 10:50:56,055: INFO: 411889403: Downloading data from https://drive.google.com/file/d/12xz9oIG_wWH5B5hilQO5IXvHfs1hrVPJ/view?usp=sharing into file artifacts/prepare_weights/weights.h5]\n"
     ]
    },
    {
     "name": "stderr",
     "output_type": "stream",
     "text": [
      "\n",
      "Downloading...\n",
      "From (original): https://drive.google.com/uc?/export=download&id=12xz9oIG_wWH5B5hilQO5IXvHfs1hrVPJ\n",
      "From (redirected): https://drive.google.com/uc?%2Fexport=download&id=12xz9oIG_wWH5B5hilQO5IXvHfs1hrVPJ&confirm=t&uuid=814dcc23-208c-429e-a2e6-f984801ec09d\n",
      "To: c:\\Users\\rahul\\Downloads\\Facial_review_system\\artifacts\\prepare_weights\\weights.h5\n",
      "100%|██████████| 598M/598M [01:57<00:00, 5.09MB/s] "
     ]
    },
    {
     "name": "stdout",
     "output_type": "stream",
     "text": [
      "[2024-04-26 10:52:55,418: INFO: 411889403: Downloaded data from https://drive.google.com/file/d/12xz9oIG_wWH5B5hilQO5IXvHfs1hrVPJ/view?usp=sharing into file artifacts/prepare_weights/weights.h5]\n"
     ]
    },
    {
     "name": "stderr",
     "output_type": "stream",
     "text": [
      "\n"
     ]
    }
   ],
   "source": [
    "try:\n",
    "    config = ConfigurationManager()\n",
    "    model_config = config.get_model_config() \n",
    "    vgg_model = ModelDownload(config = model_config)\n",
    "    zip_download_dir = model_config.local_data_file \n",
    "    vgg_model.download_file()\n",
    "    weight_config = config.get_prepare_weights_config()\n",
    "    comp_weights = WeightsDownload(config=weight_config)\n",
    "    zip_download_dir = weight_config.local_data_file \n",
    "    comp_weights.download_file()\n",
    "except Exception as e:\n",
    "    raise e"
   ]
  }
 ],
 "metadata": {
  "kernelspec": {
   "display_name": ".venv",
   "language": "python",
   "name": "python3"
  },
  "language_info": {
   "codemirror_mode": {
    "name": "ipython",
    "version": 3
   },
   "file_extension": ".py",
   "mimetype": "text/x-python",
   "name": "python",
   "nbconvert_exporter": "python",
   "pygments_lexer": "ipython3",
   "version": "3.11.9"
  }
 },
 "nbformat": 4,
 "nbformat_minor": 2
}
